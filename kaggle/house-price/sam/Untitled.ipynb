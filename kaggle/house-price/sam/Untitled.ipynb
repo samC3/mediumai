{
 "cells": [
  {
   "cell_type": "code",
   "execution_count": 1,
   "metadata": {},
   "outputs": [],
   "source": [
    "import pandas as pd\n",
    "import numpy as np \n",
    "\n",
    "from sklearn.model_selection import train_test_split\n",
    "\n",
    "import matplotlib.pyplot as plt\n",
    "\n",
    "from sklearn.ensemble import RandomForestRegressor\n",
    "from sklearn import metrics\n",
    "\n",
    "import global_variables as g_vars\n",
    "import global_functions as g_funcs"
   ]
  },
  {
   "cell_type": "code",
   "execution_count": 2,
   "metadata": {},
   "outputs": [],
   "source": [
    "pd.set_option('display.max_columns', 1000)\n",
    "pd.set_option('display.max_rows', 1000)"
   ]
  },
  {
   "cell_type": "code",
   "execution_count": 3,
   "metadata": {},
   "outputs": [],
   "source": [
    "raw_df = pd.read_csv(g_vars.train_path)\n",
    "test_raw_df = pd.read_csv(g_vars.test_path)\n",
    "\n",
    "g_funcs.handle_missing_values(raw_df)\n",
    "g_funcs.handle_missing_values(test_raw_df)"
   ]
  },
  {
   "cell_type": "code",
   "execution_count": 4,
   "metadata": {},
   "outputs": [],
   "source": [
    "raw_df.SalePrice = np.log(raw_df.SalePrice)"
   ]
  },
  {
   "cell_type": "code",
   "execution_count": 5,
   "metadata": {},
   "outputs": [],
   "source": [
    "raw_df['TotalSF'] = raw_df['GrLivArea'] + raw_df['TotalBsmtSF'] + raw_df['GarageArea'] + raw_df['EnclosedPorch'] + raw_df['ScreenPorch']\n",
    "test_raw_df['TotalSF'] = test_raw_df['GrLivArea'] + test_raw_df['TotalBsmtSF'] + test_raw_df['GarageArea'] + test_raw_df['EnclosedPorch'] + test_raw_df['ScreenPorch']"
   ]
  },
  {
   "cell_type": "code",
   "execution_count": 6,
   "metadata": {},
   "outputs": [],
   "source": [
    "one_hot_encoded_df = pd.get_dummies(data=raw_df)\n",
    "test_one_hot_encoded_df = pd.get_dummies(data=test_raw_df)\n",
    "\n",
    "test_missing_features = one_hot_encoded_df.columns.difference(test_one_hot_encoded_df.columns)\n",
    "test_missing_features = test_missing_features.delete(test_missing_features.get_loc('SalePrice'))\n",
    "one_hot_encoded_df.drop(test_missing_features, axis=1, inplace=True)\n",
    "\n",
    "one_hot_encoded_df.drop('SalePrice', axis=1, inplace=True)\n",
    "X_train, X_valid, y_train, y_valid = train_test_split(one_hot_encoded_df, raw_df.SalePrice, random_state=50)"
   ]
  },
  {
   "cell_type": "code",
   "execution_count": 7,
   "metadata": {},
   "outputs": [],
   "source": [
    "def fit_and_score_rf(rf):\n",
    "    rf.fit(X=X_train, y=y_train)\n",
    "    y_pred = rf.predict(X_valid)\n",
    "    print(np.sqrt(metrics.mean_squared_error(y_valid, y_pred)))\n",
    "    return rf"
   ]
  },
  {
   "cell_type": "code",
   "execution_count": 8,
   "metadata": {},
   "outputs": [
    {
     "name": "stdout",
     "output_type": "stream",
     "text": [
      "0.13217211572255502\n"
     ]
    }
   ],
   "source": [
    "rf = RandomForestRegressor(n_estimators=80)\n",
    "rf = fit_and_score_rf(rf)"
   ]
  },
  {
   "cell_type": "code",
   "execution_count": 9,
   "metadata": {},
   "outputs": [
    {
     "data": {
      "text/plain": [
       "(array([12.27839331, 12.27839331, 12.32385568, 12.09848743, 12.18586994,\n",
       "        12.47800636, 12.13939851, 12.27839331, 12.16525065, 12.41044104,\n",
       "        12.41074663, 12.35449265, 12.10625231, 12.38797745, 12.10348606,\n",
       "        12.34583459, 12.15477935, 12.18586994, 12.01364014, 12.06681058,\n",
       "        12.47800636, 12.35449265, 12.32385568, 12.44901882, 12.34583459,\n",
       "        12.37370349, 12.17540547, 12.26904744, 12.32385568, 12.06104687,\n",
       "        12.32385568, 12.32385568, 12.35978037, 12.17664898, 12.21849517,\n",
       "        12.48156194, 12.11176197, 12.10699237, 12.32385568, 12.47418956,\n",
       "        12.38797745, 12.26434155, 12.15477935, 12.55292652, 12.30138283,\n",
       "        12.01364014, 12.38797745, 12.3327053 , 12.16002871, 12.01364014,\n",
       "        12.32385568, 12.27139211, 12.3327053 , 12.38797745, 12.23027733,\n",
       "        12.16525065, 12.4073795 , 12.35449265, 12.45254202, 12.32385568,\n",
       "        12.18841771, 12.4073795 , 12.26434155, 12.26904744, 12.55292652,\n",
       "        12.09848743, 12.16002871, 12.16002871, 12.32385568, 12.16002871,\n",
       "        12.36788533, 12.10699237, 12.44508955, 12.38797745, 12.14950229,\n",
       "        12.32385568, 12.35449265, 12.17664898, 12.4073795 , 12.27839331]),\n",
       " 12.277794132459793,\n",
       " 12.211060187041213)"
      ]
     },
     "execution_count": 9,
     "metadata": {},
     "output_type": "execute_result"
    }
   ],
   "source": [
    "preds = np.stack([t.predict(X_valid) for t in rf.estimators_])\n",
    "preds[:,0], np.mean(preds[:,0]), y_valid.iloc[0]"
   ]
  },
  {
   "cell_type": "code",
   "execution_count": 10,
   "metadata": {},
   "outputs": [],
   "source": [
    "# plt.plot([g_funcs.rmse(y_valid, np.mean(preds[:i+2])) for i in range(100)])\n",
    "\n",
    "preds_score = []\n",
    "\n",
    "for i in range(100):\n",
    "    rf = RandomForestRegressor(n_estimators=i+1)\n",
    "    rf.fit(X=X_train, y=y_train)\n",
    "    y_pred = rf.predict(X_valid)\n",
    "    preds_score.append(np.sqrt(metrics.mean_squared_error(y_valid, y_pred)))"
   ]
  },
  {
   "cell_type": "code",
   "execution_count": 11,
   "metadata": {},
   "outputs": [
    {
     "data": {
      "text/plain": [
       "[<matplotlib.lines.Line2D at 0x11df7a668>]"
      ]
     },
     "execution_count": 11,
     "metadata": {},
     "output_type": "execute_result"
    },
    {
     "data": {
      "image/png": "[encoded data removed]",
      "text/plain": [
       "<Figure size 432x288 with 1 Axes>"
      ]
     },
     "metadata": {
      "needs_background": "light"
     },
     "output_type": "display_data"
    }
   ],
   "source": [
    "plt.plot(preds_score)"
   ]
  },
  {
   "cell_type": "code",
   "execution_count": 12,
   "metadata": {},
   "outputs": [
    {
     "name": "stdout",
     "output_type": "stream",
     "text": [
      "0.1407239517388731\n"
     ]
    }
   ],
   "source": [
    "rf = RandomForestRegressor(n_estimators=15, max_features=0.4)\n",
    "rf = fit_and_score_rf(rf)"
   ]
  },
  {
   "cell_type": "code",
   "execution_count": 13,
   "metadata": {},
   "outputs": [],
   "source": [
    "feat_importance = pd.DataFrame({'cols': one_hot_encoded_df.columns, 'imp': rf.feature_importances_}).sort_values('imp', ascending=False)"
   ]
  },
  {
   "cell_type": "code",
   "execution_count": 14,
   "metadata": {},
   "outputs": [
    {
     "data": {
      "text/html": [
       "<div>\n",
       "<style scoped>\n",
       "    .dataframe tbody tr th:only-of-type {\n",
       "        vertical-align: middle;\n",
       "    }\n",
       "\n",
       "    .dataframe tbody tr th {\n",
       "        vertical-align: top;\n",
       "    }\n",
       "\n",
       "    .dataframe thead th {\n",
       "        text-align: right;\n",
       "    }\n",
       "</style>\n",
       "<table border=\"1\" class=\"dataframe\">\n",
       "  <thead>\n",
       "    <tr style=\"text-align: right;\">\n",
       "      <th></th>\n",
       "      <th>cols</th>\n",
       "      <th>imp</th>\n",
       "    </tr>\n",
       "  </thead>\n",
       "  <tbody>\n",
       "    <tr>\n",
       "      <th>4</th>\n",
       "      <td>OverallQual</td>\n",
       "      <td>0.266145</td>\n",
       "    </tr>\n",
       "    <tr>\n",
       "      <th>37</th>\n",
       "      <td>TotalSF</td>\n",
       "      <td>0.243183</td>\n",
       "    </tr>\n",
       "    <tr>\n",
       "      <th>16</th>\n",
       "      <td>GrLivArea</td>\n",
       "      <td>0.115707</td>\n",
       "    </tr>\n",
       "    <tr>\n",
       "      <th>161</th>\n",
       "      <td>ExterQual_TA</td>\n",
       "      <td>0.049441</td>\n",
       "    </tr>\n",
       "    <tr>\n",
       "      <th>6</th>\n",
       "      <td>YearBuilt</td>\n",
       "      <td>0.045274</td>\n",
       "    </tr>\n",
       "    <tr>\n",
       "      <th>26</th>\n",
       "      <td>GarageCars</td>\n",
       "      <td>0.028387</td>\n",
       "    </tr>\n",
       "    <tr>\n",
       "      <th>13</th>\n",
       "      <td>1stFlrSF</td>\n",
       "      <td>0.021208</td>\n",
       "    </tr>\n",
       "    <tr>\n",
       "      <th>7</th>\n",
       "      <td>YearRemodAdd</td>\n",
       "      <td>0.020679</td>\n",
       "    </tr>\n",
       "    <tr>\n",
       "      <th>9</th>\n",
       "      <td>BsmtFinSF1</td>\n",
       "      <td>0.012243</td>\n",
       "    </tr>\n",
       "    <tr>\n",
       "      <th>3</th>\n",
       "      <td>LotArea</td>\n",
       "      <td>0.011769</td>\n",
       "    </tr>\n",
       "  </tbody>\n",
       "</table>\n",
       "</div>"
      ],
      "text/plain": [
       "             cols       imp\n",
       "4     OverallQual  0.266145\n",
       "37        TotalSF  0.243183\n",
       "16      GrLivArea  0.115707\n",
       "161  ExterQual_TA  0.049441\n",
       "6       YearBuilt  0.045274\n",
       "26     GarageCars  0.028387\n",
       "13       1stFlrSF  0.021208\n",
       "7    YearRemodAdd  0.020679\n",
       "9      BsmtFinSF1  0.012243\n",
       "3         LotArea  0.011769"
      ]
     },
     "execution_count": 14,
     "metadata": {},
     "output_type": "execute_result"
    }
   ],
   "source": [
    "feat_importance[:10]"
   ]
  },
  {
   "cell_type": "code",
   "execution_count": null,
   "metadata": {},
   "outputs": [],
   "source": []
  }
 ],
 "metadata": {
  "kernelspec": {
   "display_name": "Python 3",
   "language": "python",
   "name": "python3"
  },
  "language_info": {
   "codemirror_mode": {
    "name": "ipython",
    "version": 3
   },
   "file_extension": ".py",
   "mimetype": "text/x-python",
   "name": "python",
   "nbconvert_exporter": "python",
   "pygments_lexer": "ipython3",
   "version": "3.7.0"
  }
 },
 "nbformat": 4,
 "nbformat_minor": 2
}
